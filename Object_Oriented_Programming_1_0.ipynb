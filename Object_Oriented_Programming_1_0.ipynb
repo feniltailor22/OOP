{
  "nbformat": 4,
  "nbformat_minor": 0,
  "metadata": {
    "colab": {
      "name": "Object Oriented Programming 1.0.ipynb",
      "provenance": [],
      "collapsed_sections": [],
      "mount_file_id": "1uoLGOrhnIUc8ukK8Faicr5yZX1QwE2it",
      "authorship_tag": "ABX9TyPhUNlLe6xAwuu68FhLADgX",
      "include_colab_link": true
    },
    "kernelspec": {
      "name": "python3",
      "display_name": "Python 3"
    },
    "language_info": {
      "name": "python"
    }
  },
  "cells": [
    {
      "cell_type": "markdown",
      "metadata": {
        "id": "view-in-github",
        "colab_type": "text"
      },
      "source": [
        "<a href=\"https://colab.research.google.com/github/feniltailor22/OOP/blob/main/Object_Oriented_Programming_1_0.ipynb\" target=\"_parent\"><img src=\"https://colab.research.google.com/assets/colab-badge.svg\" alt=\"Open In Colab\"/></a>"
      ]
    },
    {
      "cell_type": "code",
      "metadata": {
        "id": "UNowIfCjDR65"
      },
      "source": [
        "#Class: It is a user defined data type.\n",
        "#Class is a template or blue-print for real-world entities:\n",
        "#It contains two things: (i)Attributes(Properties) (ii)Methods(Behaviour)"
      ],
      "execution_count": 1,
      "outputs": []
    },
    {
      "cell_type": "code",
      "metadata": {
        "id": "WMv5T2s9LRvx"
      },
      "source": [
        "#Objects are specific instances of a class."
      ],
      "execution_count": 2,
      "outputs": []
    },
    {
      "cell_type": "code",
      "metadata": {
        "id": "fXiCxYDNLq0K"
      },
      "source": [
        "class Phone: \n",
        "#first letter of class name is always capital.  \n",
        "  \n",
        "  def make_call(self):\n",
        "    print('Making phone calls')\n",
        "\n",
        "  def play_game(self):\n",
        "    print('Playing game') \n",
        "\n",
        "  def set_color(self, color):\n",
        "    self.color= color\n",
        "\n",
        "  def show_color(self):\n",
        "    return self.color\n",
        "\n",
        "  def set_cost(self, cost):\n",
        "    self.cost= cost\n",
        "\n",
        "  def show_cost(self):\n",
        "    return self.cost "
      ],
      "execution_count": 3,
      "outputs": []
    },
    {
      "cell_type": "code",
      "metadata": {
        "id": "ArsXp_5iMWyq"
      },
      "source": [
        "#Creating object for Phone class\n",
        "p1= Phone()"
      ],
      "execution_count": 4,
      "outputs": []
    },
    {
      "cell_type": "code",
      "metadata": {
        "colab": {
          "base_uri": "https://localhost:8080/"
        },
        "id": "1ZOowok-MoQf",
        "outputId": "8cd8b513-e6cc-4e75-f514-68a1d03004c1"
      },
      "source": [
        "#Performing methods through object.\n",
        "p1.make_call()"
      ],
      "execution_count": 5,
      "outputs": [
        {
          "output_type": "stream",
          "name": "stdout",
          "text": [
            "Making phone calls\n"
          ]
        }
      ]
    },
    {
      "cell_type": "code",
      "metadata": {
        "colab": {
          "base_uri": "https://localhost:8080/"
        },
        "id": "FV48gEKkMy6v",
        "outputId": "885e10fe-f4a7-436a-fb5e-9c93d783689f"
      },
      "source": [
        "p1.play_game()"
      ],
      "execution_count": 6,
      "outputs": [
        {
          "output_type": "stream",
          "name": "stdout",
          "text": [
            "Playing game\n"
          ]
        }
      ]
    },
    {
      "cell_type": "code",
      "metadata": {
        "id": "m0bNL-r4M0lj"
      },
      "source": [
        "p1.set_color('blue')"
      ],
      "execution_count": 7,
      "outputs": []
    },
    {
      "cell_type": "code",
      "metadata": {
        "colab": {
          "base_uri": "https://localhost:8080/",
          "height": 35
        },
        "id": "rOEb-WNvOrWN",
        "outputId": "cf8ff95f-f908-479a-bc4c-30ad1bd9404f"
      },
      "source": [
        "p1.show_color()"
      ],
      "execution_count": 8,
      "outputs": [
        {
          "output_type": "execute_result",
          "data": {
            "application/vnd.google.colaboratory.intrinsic+json": {
              "type": "string"
            },
            "text/plain": [
              "'blue'"
            ]
          },
          "metadata": {},
          "execution_count": 8
        }
      ]
    },
    {
      "cell_type": "code",
      "metadata": {
        "id": "wBmA1-pVOuPk"
      },
      "source": [
        "p1.set_cost(5000)"
      ],
      "execution_count": 9,
      "outputs": []
    },
    {
      "cell_type": "code",
      "metadata": {
        "colab": {
          "base_uri": "https://localhost:8080/"
        },
        "id": "gjGUCeuJOzOh",
        "outputId": "15dcbe4d-729c-4d85-f6c6-735f1f55d379"
      },
      "source": [
        "p1.show_cost()"
      ],
      "execution_count": 10,
      "outputs": [
        {
          "output_type": "execute_result",
          "data": {
            "text/plain": [
              "5000"
            ]
          },
          "metadata": {},
          "execution_count": 10
        }
      ]
    },
    {
      "cell_type": "code",
      "metadata": {
        "id": "hxSyTq2XO6Ls"
      },
      "source": [
        "#Creating class with Constructor(__init__)\n",
        "\n",
        "class Employee:\n",
        "  def __init__ (self, name, age, salary, gender):\n",
        "\n",
        "    self.name= name\n",
        "    self.age= age\n",
        "    self.salary= salary\n",
        "    self.gender= gender\n",
        "  \n",
        "  def employee_details(self):\n",
        "    print('Name of the employee is', self.name)\n",
        "    print('Age of the employee is', self.age)\n",
        "    print('Salary of the employee is', self.salary)\n",
        "    print('Gender of the employee is', self.gender)\n",
        "    \n"
      ],
      "execution_count": 11,
      "outputs": []
    },
    {
      "cell_type": "code",
      "metadata": {
        "id": "hFNuUMwBQk2M"
      },
      "source": [
        "e1= Employee('Krishna',25, 80000, 'Male')"
      ],
      "execution_count": 12,
      "outputs": []
    },
    {
      "cell_type": "code",
      "metadata": {
        "colab": {
          "base_uri": "https://localhost:8080/"
        },
        "id": "3ilRr9fOSVt1",
        "outputId": "e61c8b25-a54d-4cdd-d1c3-5f0fe76af3b7"
      },
      "source": [
        "e1.employee_details()"
      ],
      "execution_count": 13,
      "outputs": [
        {
          "output_type": "stream",
          "name": "stdout",
          "text": [
            "Name of the employee is Krishna\n",
            "Age of the employee is 25\n",
            "Salary of the employee is 80000\n",
            "Gender of the employee is Male\n"
          ]
        }
      ]
    },
    {
      "cell_type": "code",
      "metadata": {
        "id": "-_B-4tlCSavM"
      },
      "source": [
        "#Inheritance:\n",
        "#With inheritance one class can derive the properties of another class."
      ],
      "execution_count": 14,
      "outputs": []
    },
    {
      "cell_type": "code",
      "metadata": {
        "id": "6RUKKM1-UWZa"
      },
      "source": [
        "class Vehicle:\n",
        "  def __init__(self, name, cost, mileage):\n",
        "\n",
        "     self.name= name\n",
        "     self.cost= cost\n",
        "     self.mileage= mileage\n",
        "  \n",
        "  def show_vehicle_details(self):\n",
        "      print('Name of the vehicle is', self.name)\n",
        "      print('Cost of the vehicle is', self.cost)\n",
        "      print('Mileage of the vehicle is', self.mileage)\n",
        "\n",
        "class Car(Vehicle):\n",
        "  def show_car(self):\n",
        "    print('I am a Car')"
      ],
      "execution_count": 15,
      "outputs": []
    },
    {
      "cell_type": "code",
      "metadata": {
        "id": "kqcjd6XZVykQ"
      },
      "source": [
        "c1= Car('Swift', 550000, 45)"
      ],
      "execution_count": 16,
      "outputs": []
    },
    {
      "cell_type": "code",
      "metadata": {
        "colab": {
          "base_uri": "https://localhost:8080/"
        },
        "id": "kqpIuiDxWT8g",
        "outputId": "fae49dd5-88e7-4964-accf-d5799eea5ba9"
      },
      "source": [
        "c1.show_vehicle_details()"
      ],
      "execution_count": 17,
      "outputs": [
        {
          "output_type": "stream",
          "name": "stdout",
          "text": [
            "Name of the vehicle is Swift\n",
            "Cost of the vehicle is 550000\n",
            "Mileage of the vehicle is 45\n"
          ]
        }
      ]
    },
    {
      "cell_type": "code",
      "metadata": {
        "colab": {
          "base_uri": "https://localhost:8080/"
        },
        "id": "siPxAjenWYr0",
        "outputId": "46041a69-44e7-4f3a-ca75-9e08ae21aaf1"
      },
      "source": [
        "c1.show_car()"
      ],
      "execution_count": 18,
      "outputs": [
        {
          "output_type": "stream",
          "name": "stdout",
          "text": [
            "I am a Car\n"
          ]
        }
      ]
    },
    {
      "cell_type": "code",
      "metadata": {
        "id": "OW4MYJ8wWcsZ"
      },
      "source": [
        "#Over-riding __init__ method\n",
        "\n",
        "class Vehicle:\n",
        "  def __init__(self, cost, mileage):\n",
        "   \n",
        "    self.cost= cost\n",
        "    self.mileage= mileage\n",
        "  \n",
        "  def show_vehicle_details(self):\n",
        "   \n",
        "    print('Cost of the vehicle is', self.cost)\n",
        "    print('Mileage of the vehicle is', self.mileage)\n"
      ],
      "execution_count": 19,
      "outputs": []
    },
    {
      "cell_type": "code",
      "metadata": {
        "id": "xYsjN6SedjnO"
      },
      "source": [
        "c2= Vehicle(750000, 50)"
      ],
      "execution_count": 20,
      "outputs": []
    },
    {
      "cell_type": "code",
      "metadata": {
        "colab": {
          "base_uri": "https://localhost:8080/"
        },
        "id": "HRlI97Htfl4Y",
        "outputId": "863c9afb-eaab-432d-b4e8-439751150cf4"
      },
      "source": [
        "c2.show_vehicle_details()"
      ],
      "execution_count": 21,
      "outputs": [
        {
          "output_type": "stream",
          "name": "stdout",
          "text": [
            "Cost of the vehicle is 750000\n",
            "Mileage of the vehicle is 50\n"
          ]
        }
      ]
    },
    {
      "cell_type": "code",
      "metadata": {
        "id": "6EJr19pTfdXn"
      },
      "source": [
        "#Over-riding continue:\n",
        "class Car(Vehicle):\n",
        "  def __init__(self, cost, mileage, tyres, hp):\n",
        "    super().__init__(cost, mileage)\n",
        "    self.tyres= tyres\n",
        "    self.hp= hp\n",
        "  \n",
        "  def show_car_details(self):\n",
        "    print('I am a Car.')\n",
        "    print('I have total tyres:', self.tyres)\n",
        "    print('I have total horse power of:', self.hp)"
      ],
      "execution_count": 22,
      "outputs": []
    },
    {
      "cell_type": "code",
      "metadata": {
        "id": "X6n7uaX4fpX5"
      },
      "source": [
        "c3= Car(750000, 50, 4, 2600)"
      ],
      "execution_count": 23,
      "outputs": []
    },
    {
      "cell_type": "code",
      "metadata": {
        "colab": {
          "base_uri": "https://localhost:8080/"
        },
        "id": "K2RoVZsMfwxM",
        "outputId": "ad65b59f-de18-49db-c3cc-dbea9f14108f"
      },
      "source": [
        "c3.show_vehicle_details()"
      ],
      "execution_count": 24,
      "outputs": [
        {
          "output_type": "stream",
          "name": "stdout",
          "text": [
            "Cost of the vehicle is 750000\n",
            "Mileage of the vehicle is 50\n"
          ]
        }
      ]
    },
    {
      "cell_type": "code",
      "metadata": {
        "colab": {
          "base_uri": "https://localhost:8080/"
        },
        "id": "auYPyagihQUN",
        "outputId": "c86d1add-b09a-4221-c244-8d763c71997a"
      },
      "source": [
        "c3.show_car_details()"
      ],
      "execution_count": 25,
      "outputs": [
        {
          "output_type": "stream",
          "name": "stdout",
          "text": [
            "I am a Car.\n",
            "I have total tyres: 4\n",
            "I have total horse power of: 2600\n"
          ]
        }
      ]
    },
    {
      "cell_type": "code",
      "metadata": {
        "id": "s-YxXIwVhT1E"
      },
      "source": [
        "#Multiple Inheritance: Child inherits from more than 1 parent class."
      ],
      "execution_count": 26,
      "outputs": []
    },
    {
      "cell_type": "code",
      "metadata": {
        "id": "SjKOgRRjm2Qj"
      },
      "source": [
        "class Parent1:\n",
        "  def assign_string_one(self, str1):\n",
        "    self.str1= str1\n",
        "\n",
        "  def show_str1(self):\n",
        "    return self.str1\n",
        "\n",
        "class Parent2:\n",
        "  def assign_string_two(self, str2):\n",
        "    self.str2= str2\n",
        "\n",
        "  def show_str2(self):\n",
        "    return self.str2\n",
        "\n",
        "class Child(Parent1, Parent2):\n",
        "  def assign_string_three(self, str3):\n",
        "    self.str3= str3\n",
        "\n",
        "  def show_str3(self):\n",
        "    return self.str3"
      ],
      "execution_count": 27,
      "outputs": []
    },
    {
      "cell_type": "code",
      "metadata": {
        "id": "Sr_iQRWioB0p"
      },
      "source": [
        "my_child= Child()"
      ],
      "execution_count": 28,
      "outputs": []
    },
    {
      "cell_type": "code",
      "metadata": {
        "colab": {
          "base_uri": "https://localhost:8080/",
          "height": 35
        },
        "id": "wOff1UhroQZb",
        "outputId": "73f35427-085b-42f4-bb95-57bfed615b6b"
      },
      "source": [
        "my_child.assign_string_one('I am string 1 of parent 1')\n",
        "my_child.show_str1()"
      ],
      "execution_count": 29,
      "outputs": [
        {
          "output_type": "execute_result",
          "data": {
            "application/vnd.google.colaboratory.intrinsic+json": {
              "type": "string"
            },
            "text/plain": [
              "'I am string 1 of parent 1'"
            ]
          },
          "metadata": {},
          "execution_count": 29
        }
      ]
    },
    {
      "cell_type": "code",
      "metadata": {
        "colab": {
          "base_uri": "https://localhost:8080/",
          "height": 35
        },
        "id": "zlR-KkiMol5V",
        "outputId": "4c3ee665-6cd9-403a-d886-78f78f824f63"
      },
      "source": [
        "my_child.assign_string_two('I am string 2 of parent 2')\n",
        "my_child.show_str2()"
      ],
      "execution_count": 30,
      "outputs": [
        {
          "output_type": "execute_result",
          "data": {
            "application/vnd.google.colaboratory.intrinsic+json": {
              "type": "string"
            },
            "text/plain": [
              "'I am string 2 of parent 2'"
            ]
          },
          "metadata": {},
          "execution_count": 30
        }
      ]
    },
    {
      "cell_type": "code",
      "metadata": {
        "colab": {
          "base_uri": "https://localhost:8080/",
          "height": 35
        },
        "id": "tnnJDBa1otE2",
        "outputId": "5a40b723-4f7b-409d-fd91-d0e9e9ff620c"
      },
      "source": [
        "my_child.assign_string_three('I am string of child')\n",
        "my_child.show_str3()"
      ],
      "execution_count": 31,
      "outputs": [
        {
          "output_type": "execute_result",
          "data": {
            "application/vnd.google.colaboratory.intrinsic+json": {
              "type": "string"
            },
            "text/plain": [
              "'I am string of child'"
            ]
          },
          "metadata": {},
          "execution_count": 31
        }
      ]
    },
    {
      "cell_type": "code",
      "metadata": {
        "id": "J3o3fmXwo91F"
      },
      "source": [
        "#Multi-level Inheritance: It has Parent, Child, and Grand-child relationship."
      ],
      "execution_count": 32,
      "outputs": []
    },
    {
      "cell_type": "code",
      "metadata": {
        "id": "oVQHxziSpYRV"
      },
      "source": [
        "class Parent:\n",
        "  def assign_name(self, name):\n",
        "    self.name= name\n",
        "\n",
        "  def show_name(self):\n",
        "    return self.name\n",
        "\n",
        "class Child(Parent):\n",
        "  def assign_age(self, age):\n",
        "    self.age= age\n",
        "\n",
        "  def show_age(self):\n",
        "    return self.age\n",
        "\n",
        "class GrandChild(Child):\n",
        "  def assign_gender(self, gender):\n",
        "    self.gender= gender\n",
        "\n",
        "  def show_gender(self):\n",
        "    return self.gender"
      ],
      "execution_count": 33,
      "outputs": []
    },
    {
      "cell_type": "code",
      "metadata": {
        "id": "HisdQFUrqDYL"
      },
      "source": [
        "gc= GrandChild()"
      ],
      "execution_count": 34,
      "outputs": []
    },
    {
      "cell_type": "code",
      "metadata": {
        "colab": {
          "base_uri": "https://localhost:8080/",
          "height": 35
        },
        "id": "RO2_0IC2rUNz",
        "outputId": "eb7b56dc-432d-4bc2-80a5-c1a9854c92c2"
      },
      "source": [
        "gc.assign_name('Fenil')\n",
        "gc.show_name()"
      ],
      "execution_count": 35,
      "outputs": [
        {
          "output_type": "execute_result",
          "data": {
            "application/vnd.google.colaboratory.intrinsic+json": {
              "type": "string"
            },
            "text/plain": [
              "'Fenil'"
            ]
          },
          "metadata": {},
          "execution_count": 35
        }
      ]
    },
    {
      "cell_type": "code",
      "metadata": {
        "colab": {
          "base_uri": "https://localhost:8080/"
        },
        "id": "qDHsjdpfrZ_s",
        "outputId": "0648a120-070e-45fa-a7ac-99d3512b5bcc"
      },
      "source": [
        "gc.assign_age(25)\n",
        "gc.show_age()"
      ],
      "execution_count": 36,
      "outputs": [
        {
          "output_type": "execute_result",
          "data": {
            "text/plain": [
              "25"
            ]
          },
          "metadata": {},
          "execution_count": 36
        }
      ]
    },
    {
      "cell_type": "code",
      "metadata": {
        "colab": {
          "base_uri": "https://localhost:8080/",
          "height": 35
        },
        "id": "U2afLO9crk0F",
        "outputId": "5c6795ff-9fb7-4023-ff5c-e034e3a71d72"
      },
      "source": [
        "gc.assign_gender('Male')\n",
        "gc.show_gender()"
      ],
      "execution_count": 37,
      "outputs": [
        {
          "output_type": "execute_result",
          "data": {
            "application/vnd.google.colaboratory.intrinsic+json": {
              "type": "string"
            },
            "text/plain": [
              "'Male'"
            ]
          },
          "metadata": {},
          "execution_count": 37
        }
      ]
    },
    {
      "cell_type": "code",
      "metadata": {
        "id": "JYL9umB_rwaT"
      },
      "source": [
        "#Polymorphism: It is an ability to use common interface for multiple form(data types).\n",
        "#Four types: (i)Duck Typing (ii)Operator Overloading (iii)Method Overloading (iv)Method Overriding"
      ],
      "execution_count": 38,
      "outputs": []
    },
    {
      "cell_type": "code",
      "metadata": {
        "id": "QfztGgops5Oz"
      },
      "source": [
        "class Parrot:\n",
        "  def fly(self):\n",
        "    print('Parrot can fly.')\n",
        "  def swim(self):\n",
        "    print(\"Parrot can't swim.\")\n",
        "\n",
        "class Turtle:\n",
        "  def fly(self):\n",
        "    print(\"Turtle can't fly.\")\n",
        "  def swim(self):\n",
        "    print(\"Turtle can swim.\")\n",
        "\n",
        "def fact1(creature):\n",
        "  creature.fly()\n",
        "\n",
        "def fact2(creature):\n",
        "  creature.swim()"
      ],
      "execution_count": 39,
      "outputs": []
    },
    {
      "cell_type": "code",
      "metadata": {
        "colab": {
          "base_uri": "https://localhost:8080/"
        },
        "id": "wOE7ibKWxJby",
        "outputId": "f461f2f1-6c89-47ec-9168-b8d35e9e220c"
      },
      "source": [
        "A1= Parrot()\n",
        "fact1(A1)"
      ],
      "execution_count": 40,
      "outputs": [
        {
          "output_type": "stream",
          "name": "stdout",
          "text": [
            "Parrot can fly.\n"
          ]
        }
      ]
    },
    {
      "cell_type": "code",
      "metadata": {
        "colab": {
          "base_uri": "https://localhost:8080/"
        },
        "id": "TYOo9uch1yCL",
        "outputId": "d2a80110-7364-4266-928b-93798bdb2a32"
      },
      "source": [
        "fact2(A1)"
      ],
      "execution_count": 41,
      "outputs": [
        {
          "output_type": "stream",
          "name": "stdout",
          "text": [
            "Parrot can't swim.\n"
          ]
        }
      ]
    },
    {
      "cell_type": "code",
      "metadata": {
        "colab": {
          "base_uri": "https://localhost:8080/"
        },
        "id": "CxHSbaTD17gp",
        "outputId": "704ef583-791a-435e-ea9d-eb31462ced90"
      },
      "source": [
        "A2= Turtle()\n",
        "fact1(A2)"
      ],
      "execution_count": 42,
      "outputs": [
        {
          "output_type": "stream",
          "name": "stdout",
          "text": [
            "Turtle can't fly.\n"
          ]
        }
      ]
    },
    {
      "cell_type": "code",
      "metadata": {
        "colab": {
          "base_uri": "https://localhost:8080/"
        },
        "id": "qjY-woc82Oou",
        "outputId": "1d7fd6dc-6734-49a0-feea-9e1c3736b233"
      },
      "source": [
        "fact2(A2)"
      ],
      "execution_count": 43,
      "outputs": [
        {
          "output_type": "stream",
          "name": "stdout",
          "text": [
            "Turtle can swim.\n"
          ]
        }
      ]
    },
    {
      "cell_type": "code",
      "metadata": {
        "id": "zf5UjcfX0a0t"
      },
      "source": [
        "#Encapsulation: It is used to restrict access to methods and variables.\n",
        "#This can prevent the data from being modified by accident.\n",
        "#It can be achieved by private methods and private variables."
      ],
      "execution_count": 44,
      "outputs": []
    },
    {
      "cell_type": "code",
      "metadata": {
        "id": "xkbkaBK41TGt"
      },
      "source": [
        "#Private method is accessible only in their own class and starts with double underscores (__). \n",
        "#Use: Data hiding, Flexibility, Reusability"
      ],
      "execution_count": 45,
      "outputs": []
    },
    {
      "cell_type": "code",
      "metadata": {
        "id": "kcaR1f-Z3PdT"
      },
      "source": [
        "class Walmart:\n",
        "  def __init__(self):\n",
        "    self.store_name= 'Heartland Supercenter'\n",
        "    self.__location= 'Missisauga'\n",
        "  \n",
        "  def Associate(self):            \n",
        "    return self.store_name + self.__location"
      ],
      "execution_count": 46,
      "outputs": []
    },
    {
      "cell_type": "code",
      "metadata": {
        "id": "Mcm6f1NW6EYn"
      },
      "source": [
        "obj= Walmart()"
      ],
      "execution_count": 47,
      "outputs": []
    },
    {
      "cell_type": "code",
      "metadata": {
        "colab": {
          "base_uri": "https://localhost:8080/",
          "height": 35
        },
        "id": "VR1xQ59L6G-b",
        "outputId": "11e0a721-f6fd-432c-c911-c89794f5042b"
      },
      "source": [
        "obj.store_name"
      ],
      "execution_count": 48,
      "outputs": [
        {
          "output_type": "execute_result",
          "data": {
            "application/vnd.google.colaboratory.intrinsic+json": {
              "type": "string"
            },
            "text/plain": [
              "'Heartland Supercenter'"
            ]
          },
          "metadata": {},
          "execution_count": 48
        }
      ]
    },
    {
      "cell_type": "code",
      "metadata": {
        "colab": {
          "base_uri": "https://localhost:8080/",
          "height": 35
        },
        "id": "LCWURqj47PnI",
        "outputId": "3a3181a0-3839-483e-b5a1-e5b7ed4dcdb3"
      },
      "source": [
        "#Accessing private method by name mangling: object._class__private attribute\n",
        "obj._Walmart__location"
      ],
      "execution_count": 49,
      "outputs": [
        {
          "output_type": "execute_result",
          "data": {
            "application/vnd.google.colaboratory.intrinsic+json": {
              "type": "string"
            },
            "text/plain": [
              "'Missisauga'"
            ]
          },
          "metadata": {},
          "execution_count": 49
        }
      ]
    },
    {
      "cell_type": "code",
      "metadata": {
        "colab": {
          "base_uri": "https://localhost:8080/",
          "height": 35
        },
        "id": "rTlQjrLC6Yv5",
        "outputId": "14fdace1-6194-41c2-cdf9-896799e98339"
      },
      "source": [
        "obj.Associate() "
      ],
      "execution_count": 50,
      "outputs": [
        {
          "output_type": "execute_result",
          "data": {
            "application/vnd.google.colaboratory.intrinsic+json": {
              "type": "string"
            },
            "text/plain": [
              "'Heartland SupercenterMissisauga'"
            ]
          },
          "metadata": {},
          "execution_count": 50
        }
      ]
    },
    {
      "cell_type": "code",
      "metadata": {
        "id": "ZqqUhOdC9UBh"
      },
      "source": [
        "#Set and Get method for private variables:\n",
        "class Walmart:\n",
        "  def __init__(self):\n",
        "    self.store_name= 'Heartland Supercenter'\n",
        "    self.__location= 'Missisauga'\n",
        "  \n",
        "  def Associate(self):            \n",
        "    return self.store_name + ' : ' + self.__location\n",
        "  \n",
        "  def set_location(self, x):\n",
        "    self.__location= x\n",
        "  \n",
        "  def get_location(self):\n",
        "    return self.__location"
      ],
      "execution_count": 51,
      "outputs": []
    },
    {
      "cell_type": "code",
      "metadata": {
        "id": "Usrre4sK-WSu"
      },
      "source": [
        "obj= Walmart()"
      ],
      "execution_count": 52,
      "outputs": []
    },
    {
      "cell_type": "code",
      "metadata": {
        "colab": {
          "base_uri": "https://localhost:8080/",
          "height": 35
        },
        "id": "LqovFhec-0tv",
        "outputId": "3f10745c-ac08-4b95-86fa-b1486281dc40"
      },
      "source": [
        "obj.Associate()"
      ],
      "execution_count": 53,
      "outputs": [
        {
          "output_type": "execute_result",
          "data": {
            "application/vnd.google.colaboratory.intrinsic+json": {
              "type": "string"
            },
            "text/plain": [
              "'Heartland Supercenter : Missisauga'"
            ]
          },
          "metadata": {},
          "execution_count": 53
        }
      ]
    },
    {
      "cell_type": "code",
      "metadata": {
        "id": "MX4mHEqn-kqV"
      },
      "source": [
        "obj.set_location('Kennady')"
      ],
      "execution_count": 54,
      "outputs": []
    },
    {
      "cell_type": "code",
      "metadata": {
        "colab": {
          "base_uri": "https://localhost:8080/",
          "height": 35
        },
        "id": "_wdyI5eZ-rFV",
        "outputId": "7c9a26f0-34dc-43f7-af77-d1d5a8156a98"
      },
      "source": [
        "obj.get_location()"
      ],
      "execution_count": 55,
      "outputs": [
        {
          "output_type": "execute_result",
          "data": {
            "application/vnd.google.colaboratory.intrinsic+json": {
              "type": "string"
            },
            "text/plain": [
              "'Kennady'"
            ]
          },
          "metadata": {},
          "execution_count": 55
        }
      ]
    },
    {
      "cell_type": "code",
      "metadata": {
        "colab": {
          "base_uri": "https://localhost:8080/",
          "height": 35
        },
        "id": "xhjgo_ye-wXO",
        "outputId": "c7dfc5b9-1de7-451b-ff1c-e90e5b2afaf2"
      },
      "source": [
        "obj.Associate()"
      ],
      "execution_count": 56,
      "outputs": [
        {
          "output_type": "execute_result",
          "data": {
            "application/vnd.google.colaboratory.intrinsic+json": {
              "type": "string"
            },
            "text/plain": [
              "'Heartland Supercenter : Kennady'"
            ]
          },
          "metadata": {},
          "execution_count": 56
        }
      ]
    },
    {
      "cell_type": "code",
      "metadata": {
        "id": "YIzlZxWuGAsI"
      },
      "source": [
        "#Abstraction: It is used to hide the complexity and only showing the essential features of the object.\n",
        "#Abstract classes cannot be instantiated, and required subclasses to provide implementations for the abstract method.    "
      ],
      "execution_count": 57,
      "outputs": []
    },
    {
      "cell_type": "code",
      "metadata": {
        "id": "Ang3drgQKox-"
      },
      "source": [
        "from abc import ABC, abstractmethod\n",
        "#ABC= abstract class"
      ],
      "execution_count": 58,
      "outputs": []
    },
    {
      "cell_type": "code",
      "metadata": {
        "id": "jETzlyy-OIJ7"
      },
      "source": [
        "#Creating Abstract class:\n",
        "class Shape(ABC):\n",
        "  @abstractmethod\n",
        "  def area(self):\n",
        "    pass\n",
        "  \n",
        "  @abstractmethod\n",
        "  def perimeter(self):\n",
        "    pass\n",
        "\n",
        "class Square(Shape):\n",
        "  def __init__(self, s):\n",
        "    self.side= s\n",
        "  \n",
        "  def area(self):\n",
        "    return self.side*self.side\n",
        "  def perimeter(self):\n",
        "     return self.side*4"
      ],
      "execution_count": 59,
      "outputs": []
    },
    {
      "cell_type": "code",
      "metadata": {
        "id": "Ed_w_O7CP08H"
      },
      "source": [
        "ob= Square(5)"
      ],
      "execution_count": 60,
      "outputs": []
    },
    {
      "cell_type": "code",
      "metadata": {
        "colab": {
          "base_uri": "https://localhost:8080/"
        },
        "id": "aQgQKNSGTq8H",
        "outputId": "74162553-c1ab-4746-e47e-b2f6bfda3601"
      },
      "source": [
        "ob.area()"
      ],
      "execution_count": 61,
      "outputs": [
        {
          "output_type": "execute_result",
          "data": {
            "text/plain": [
              "25"
            ]
          },
          "metadata": {},
          "execution_count": 61
        }
      ]
    },
    {
      "cell_type": "code",
      "metadata": {
        "colab": {
          "base_uri": "https://localhost:8080/"
        },
        "id": "5z78KeWHTxeF",
        "outputId": "c34ee766-2900-46da-c1f8-0a6b5e7ff523"
      },
      "source": [
        "ob.perimeter()"
      ],
      "execution_count": 62,
      "outputs": [
        {
          "output_type": "execute_result",
          "data": {
            "text/plain": [
              "20"
            ]
          },
          "metadata": {},
          "execution_count": 62
        }
      ]
    },
    {
      "cell_type": "code",
      "metadata": {
        "id": "1azRW6cFAdmC"
      },
      "source": [
        "class MyCompany:\n",
        "        \n",
        "    # methods\n",
        "    def __init__(self, compname, revenue, employeesize):\n",
        "        self.name = compname\n",
        "        self.revenue = revenue\n",
        "        self.no_of_employees = employeesize\n",
        "\n",
        "    def productivity(self):\n",
        "        return self.revenue/self.no_of_employees"
      ],
      "execution_count": 63,
      "outputs": []
    },
    {
      "cell_type": "code",
      "metadata": {
        "id": "m-15olppAfK6"
      },
      "source": [
        "comp= MyCompany('xyz', 54000, 2)"
      ],
      "execution_count": 64,
      "outputs": []
    },
    {
      "cell_type": "code",
      "metadata": {
        "colab": {
          "base_uri": "https://localhost:8080/"
        },
        "id": "aW7HLHAdAlty",
        "outputId": "28bcf3a5-8b3a-4260-8326-b739783d2ebd"
      },
      "source": [
        "comp.productivity()"
      ],
      "execution_count": 65,
      "outputs": [
        {
          "output_type": "execute_result",
          "data": {
            "text/plain": [
              "27000.0"
            ]
          },
          "metadata": {},
          "execution_count": 65
        }
      ]
    }
  ]
}