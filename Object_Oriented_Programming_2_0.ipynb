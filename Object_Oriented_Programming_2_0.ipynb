{
  "nbformat": 4,
  "nbformat_minor": 0,
  "metadata": {
    "colab": {
      "name": "Object Oriented Programming 2.0.ipynb",
      "provenance": [],
      "collapsed_sections": [],
      "mount_file_id": "1cgleaPWdjYtr7mi836M3K5vV_1Cx-Rjm",
      "authorship_tag": "ABX9TyMwhinsr3PraOCuS2kG6Ccl",
      "include_colab_link": true
    },
    "kernelspec": {
      "name": "python3",
      "display_name": "Python 3"
    },
    "language_info": {
      "name": "python"
    }
  },
  "cells": [
    {
      "cell_type": "markdown",
      "metadata": {
        "id": "view-in-github",
        "colab_type": "text"
      },
      "source": [
        "<a href=\"https://colab.research.google.com/github/feniltailor22/OOP/blob/main/Object_Oriented_Programming_2_0.ipynb\" target=\"_parent\"><img src=\"https://colab.research.google.com/assets/colab-badge.svg\" alt=\"Open In Colab\"/></a>"
      ]
    },
    {
      "cell_type": "code",
      "metadata": {
        "id": "tmqwZchV3Shy"
      },
      "source": [
        "#Simple class and object creation:"
      ],
      "execution_count": 2,
      "outputs": []
    },
    {
      "cell_type": "code",
      "metadata": {
        "id": "cAPulYaR6WN8"
      },
      "source": [
        "class Car:\n",
        "  pass  #empty class"
      ],
      "execution_count": 3,
      "outputs": []
    },
    {
      "cell_type": "code",
      "metadata": {
        "id": "-gY_ucxr31Wo"
      },
      "source": [
        "#Creating objects/instances of a class:\n",
        "ford= Car()\n",
        "honda= Car()\n",
        "audi= Car()"
      ],
      "execution_count": 4,
      "outputs": []
    },
    {
      "cell_type": "code",
      "metadata": {
        "id": "ohX9vxJS4CbS"
      },
      "source": [
        "#Assigning attributes to objects\n",
        "ford.speed= 200\n",
        "honda.speed= 220\n",
        "audi.speed= 250\n",
        "\n",
        "ford.color= 'Red'\n",
        "honda.color= 'Blue'\n",
        "audi.color= 'Black'"
      ],
      "execution_count": 5,
      "outputs": []
    },
    {
      "cell_type": "code",
      "metadata": {
        "colab": {
          "base_uri": "https://localhost:8080/"
        },
        "id": "s25j5azW4fDc",
        "outputId": "60b94eed-93d0-4480-cd9b-8c386d5a0e9a"
      },
      "source": [
        "print(ford.speed)\n",
        "print(ford.color)"
      ],
      "execution_count": 6,
      "outputs": [
        {
          "output_type": "stream",
          "name": "stdout",
          "text": [
            "200\n",
            "Red\n"
          ]
        }
      ]
    },
    {
      "cell_type": "code",
      "metadata": {
        "id": "q-eEhxvB5HEB"
      },
      "source": [
        "class Rectangle:\n",
        "  pass"
      ],
      "execution_count": 7,
      "outputs": []
    },
    {
      "cell_type": "code",
      "metadata": {
        "id": "qGY0v_cR5wPT"
      },
      "source": [
        "rect1= Rectangle()\n",
        "rect2= Rectangle()"
      ],
      "execution_count": 8,
      "outputs": []
    },
    {
      "cell_type": "code",
      "metadata": {
        "id": "qABxuWTz50G9"
      },
      "source": [
        "rect1.height= 15\n",
        "rect2.height= 9\n",
        "\n",
        "rect1.width= 8\n",
        "rect2.width= 12"
      ],
      "execution_count": 9,
      "outputs": []
    },
    {
      "cell_type": "code",
      "metadata": {
        "colab": {
          "base_uri": "https://localhost:8080/"
        },
        "id": "DkHewkZ96BIT",
        "outputId": "a589b2a7-2c7c-46ee-d816-709f8502bbf1"
      },
      "source": [
        "area_rect1= rect1.height*rect1.width\n",
        "area_rect1"
      ],
      "execution_count": 10,
      "outputs": [
        {
          "output_type": "execute_result",
          "data": {
            "text/plain": [
              "120"
            ]
          },
          "metadata": {},
          "execution_count": 10
        }
      ]
    },
    {
      "cell_type": "code",
      "metadata": {
        "colab": {
          "base_uri": "https://localhost:8080/"
        },
        "id": "Az5mHOh_6MwU",
        "outputId": "bb38e46a-a60a-48d1-b2b5-ee0dff199806"
      },
      "source": [
        "area_rect2= rect2.height*rect2.width\n",
        "area_rect2"
      ],
      "execution_count": 11,
      "outputs": [
        {
          "output_type": "execute_result",
          "data": {
            "text/plain": [
              "108"
            ]
          },
          "metadata": {},
          "execution_count": 11
        }
      ]
    },
    {
      "cell_type": "code",
      "metadata": {
        "id": "RSKZKV5s6T9i"
      },
      "source": [
        "#Creating class with Constructor(__init__):"
      ],
      "execution_count": 12,
      "outputs": []
    },
    {
      "cell_type": "code",
      "metadata": {
        "id": "X28BQPGa6mf7"
      },
      "source": [
        "class Car:\n",
        "  def __init__ (self, name, speed, color):\n",
        "    self.name= name\n",
        "    self.speed= speed\n",
        "    self.color= color\n",
        "  \n",
        "  def Car_Details(self):\n",
        "    print('The name of the Car is:', self.name)\n",
        "    print('The speed of the Car is:', self.speed)\n",
        "    print('The color of the Car is:', self.color)"
      ],
      "execution_count": 13,
      "outputs": []
    },
    {
      "cell_type": "code",
      "metadata": {
        "id": "xE14RB2p_cvD"
      },
      "source": [
        "obj= Car('Toyota', 180, 'Silver')"
      ],
      "execution_count": 14,
      "outputs": []
    },
    {
      "cell_type": "code",
      "metadata": {
        "colab": {
          "base_uri": "https://localhost:8080/"
        },
        "id": "9aKDVpqp_mif",
        "outputId": "62da1b94-0cde-4efe-a2e1-2166e7d795c8"
      },
      "source": [
        "obj.Car_Details()"
      ],
      "execution_count": 15,
      "outputs": [
        {
          "output_type": "stream",
          "name": "stdout",
          "text": [
            "The name of the Car is: Toyota\n",
            "The speed of the Car is: 180\n",
            "The color of the Car is: Silver\n"
          ]
        }
      ]
    },
    {
      "cell_type": "code",
      "metadata": {
        "id": "w9lRTCQg_vnY"
      },
      "source": [
        "#Encapsulation: It is used to restrict access to methods and variables.\n",
        "#This can prevent the data from being modified by accident.\n",
        "#It can be achieved by private methods and private variables."
      ],
      "execution_count": 16,
      "outputs": []
    },
    {
      "cell_type": "code",
      "metadata": {
        "id": "wuUw1dylAI1u"
      },
      "source": [
        "#Private method is accessible only in their own class and starts with double underscores (__). \n",
        "#Use: Data hiding, Flexibility, Reusability"
      ],
      "execution_count": 17,
      "outputs": []
    },
    {
      "cell_type": "code",
      "metadata": {
        "id": "urCon88QALme"
      },
      "source": [
        "class Car:\n",
        "  def __init__ (self, name, color, speed):\n",
        "    self.name= name\n",
        "    self.color= color\n",
        "    self.__speed= speed\n",
        "\n",
        "  def car_obj(self):\n",
        "    print('Car name is: ', self.name)\n",
        "    print('Car color is: ', self.color)\n",
        "    print('Car speed is: ', self.__speed)\n"
      ],
      "execution_count": 18,
      "outputs": []
    },
    {
      "cell_type": "code",
      "metadata": {
        "id": "4S7xzJs-F_4T"
      },
      "source": [
        "obj=Car('Toyota', 'Yellow', 100)"
      ],
      "execution_count": 19,
      "outputs": []
    },
    {
      "cell_type": "code",
      "metadata": {
        "colab": {
          "base_uri": "https://localhost:8080/",
          "height": 244
        },
        "id": "HT7q-76ROeof",
        "outputId": "aa427dd4-7e3c-4376-cdc7-6ac8fff38664"
      },
      "source": [
        "print(obj.name)\n",
        "print(obj.color)\n",
        "print(obj.speeed)"
      ],
      "execution_count": 20,
      "outputs": [
        {
          "output_type": "stream",
          "name": "stdout",
          "text": [
            "Toyota\n",
            "Yellow\n"
          ]
        },
        {
          "output_type": "error",
          "ename": "AttributeError",
          "evalue": "ignored",
          "traceback": [
            "\u001b[0;31m---------------------------------------------------------------------------\u001b[0m",
            "\u001b[0;31mAttributeError\u001b[0m                            Traceback (most recent call last)",
            "\u001b[0;32m<ipython-input-20-c3d081390721>\u001b[0m in \u001b[0;36m<module>\u001b[0;34m()\u001b[0m\n\u001b[1;32m      1\u001b[0m \u001b[0mprint\u001b[0m\u001b[0;34m(\u001b[0m\u001b[0mobj\u001b[0m\u001b[0;34m.\u001b[0m\u001b[0mname\u001b[0m\u001b[0;34m)\u001b[0m\u001b[0;34m\u001b[0m\u001b[0;34m\u001b[0m\u001b[0m\n\u001b[1;32m      2\u001b[0m \u001b[0mprint\u001b[0m\u001b[0;34m(\u001b[0m\u001b[0mobj\u001b[0m\u001b[0;34m.\u001b[0m\u001b[0mcolor\u001b[0m\u001b[0;34m)\u001b[0m\u001b[0;34m\u001b[0m\u001b[0;34m\u001b[0m\u001b[0m\n\u001b[0;32m----> 3\u001b[0;31m \u001b[0mprint\u001b[0m\u001b[0;34m(\u001b[0m\u001b[0mobj\u001b[0m\u001b[0;34m.\u001b[0m\u001b[0mspeeed\u001b[0m\u001b[0;34m)\u001b[0m\u001b[0;34m\u001b[0m\u001b[0;34m\u001b[0m\u001b[0m\n\u001b[0m",
            "\u001b[0;31mAttributeError\u001b[0m: 'Car' object has no attribute 'speeed'"
          ]
        }
      ]
    },
    {
      "cell_type": "code",
      "metadata": {
        "id": "aR2g9PAQOqH7"
      },
      "source": [
        "#As you can see we can access the name and color of car directly as it is not private, whereas we cannot access speed as it is private."
      ],
      "execution_count": 21,
      "outputs": []
    },
    {
      "cell_type": "code",
      "metadata": {
        "colab": {
          "base_uri": "https://localhost:8080/"
        },
        "id": "iZUFPc2vRGtY",
        "outputId": "6b841158-0776-44da-af16-7ca9f73096cf"
      },
      "source": [
        "#Accessing private method by name mangling: object._class__private attribute\n",
        "obj._Car__speed  "
      ],
      "execution_count": 22,
      "outputs": [
        {
          "output_type": "execute_result",
          "data": {
            "text/plain": [
              "100"
            ]
          },
          "metadata": {},
          "execution_count": 22
        }
      ]
    },
    {
      "cell_type": "code",
      "metadata": {
        "colab": {
          "base_uri": "https://localhost:8080/"
        },
        "id": "N8OALfGGO05T",
        "outputId": "3784a686-5237-42d1-8cbc-c75137c61127"
      },
      "source": [
        "obj.car_obj()"
      ],
      "execution_count": 23,
      "outputs": [
        {
          "output_type": "stream",
          "name": "stdout",
          "text": [
            "Car name is:  Toyota\n",
            "Car color is:  Yellow\n",
            "Car speed is:  100\n"
          ]
        }
      ]
    },
    {
      "cell_type": "code",
      "metadata": {
        "colab": {
          "base_uri": "https://localhost:8080/"
        },
        "id": "5KCpgL5gRat0",
        "outputId": "68161694-4128-403d-eea2-b86e2982adc2"
      },
      "source": [
        "#We can change the public attributes of the class. but we cannot change private attribute due to encapsulation.\n",
        "obj.name= 'Honda'\n",
        "obj.car_obj()"
      ],
      "execution_count": 24,
      "outputs": [
        {
          "output_type": "stream",
          "name": "stdout",
          "text": [
            "Car name is:  Honda\n",
            "Car color is:  Yellow\n",
            "Car speed is:  100\n"
          ]
        }
      ]
    },
    {
      "cell_type": "code",
      "metadata": {
        "id": "KyZsCw6uO_4E"
      },
      "source": [
        "#We can also use setter and getter for accessing private attribute in encapsulation."
      ],
      "execution_count": 25,
      "outputs": []
    },
    {
      "cell_type": "code",
      "metadata": {
        "id": "X6aOe_1GPJVk"
      },
      "source": [
        "class Car:\n",
        "  def __init__ (self, name, color, speed):\n",
        "    self.name= name\n",
        "    self.color= color\n",
        "    self.__speed= speed\n",
        "\n",
        "  def car_obj(self):\n",
        "    print('Car name is: ', self.name)\n",
        "    print('Car color is: ', self.color)\n",
        "\n",
        "  def set_speed(self, speed):\n",
        "    self.__speed= speed\n",
        "\n",
        "  def get_speed(self):\n",
        "    return self.__speed"
      ],
      "execution_count": 26,
      "outputs": []
    },
    {
      "cell_type": "code",
      "metadata": {
        "id": "dPv6XsVrPW1P"
      },
      "source": [
        "obj= Car('xuv', 'pink', 100)"
      ],
      "execution_count": 27,
      "outputs": []
    },
    {
      "cell_type": "code",
      "metadata": {
        "colab": {
          "base_uri": "https://localhost:8080/"
        },
        "id": "6jpCA-Q7P5Iq",
        "outputId": "59102dab-c5b9-4377-a9a7-d74565d79892"
      },
      "source": [
        "obj.car_obj()"
      ],
      "execution_count": 28,
      "outputs": [
        {
          "output_type": "stream",
          "name": "stdout",
          "text": [
            "Car name is:  xuv\n",
            "Car color is:  pink\n"
          ]
        }
      ]
    },
    {
      "cell_type": "code",
      "metadata": {
        "id": "CK_GdZfTP7MW"
      },
      "source": [
        "obj.set_speed(150)"
      ],
      "execution_count": 29,
      "outputs": []
    },
    {
      "cell_type": "code",
      "metadata": {
        "colab": {
          "base_uri": "https://localhost:8080/"
        },
        "id": "c04AtP34P_hd",
        "outputId": "d93d18ad-0bc8-454d-8f8e-fed39a8aa84f"
      },
      "source": [
        "obj.get_speed()"
      ],
      "execution_count": 30,
      "outputs": [
        {
          "output_type": "execute_result",
          "data": {
            "text/plain": [
              "150"
            ]
          },
          "metadata": {},
          "execution_count": 30
        }
      ]
    },
    {
      "cell_type": "code",
      "metadata": {
        "id": "yUfLJF25QBJa"
      },
      "source": [
        "#Inheritance:\n",
        "#With inheritance one class can derive the properties of another class.\n",
        "#We cannot access the private attributes of super-class in subclass."
      ],
      "execution_count": 31,
      "outputs": []
    },
    {
      "cell_type": "code",
      "metadata": {
        "id": "itfQM3OxVWlt"
      },
      "source": [
        "class Polygon:\n",
        "\n",
        "  def set_values(self, width, height):\n",
        "    self.__width= width\n",
        "    self.__height= height\n",
        "  \n",
        "class Rectangle(Polygon):\n",
        "  def area(self):\n",
        "    return self.__width * self.__height\n",
        "\n",
        "class Triangle(Polygon):\n",
        "  def area(self):\n",
        "    return self.__width * self.__height / 2"
      ],
      "execution_count": 32,
      "outputs": []
    },
    {
      "cell_type": "code",
      "metadata": {
        "id": "mhG79FSRWKms"
      },
      "source": [
        "rect=Rectangle()"
      ],
      "execution_count": 33,
      "outputs": []
    },
    {
      "cell_type": "code",
      "metadata": {
        "id": "i8CL4LXKWTG1"
      },
      "source": [
        "rect.set_values(10,20)"
      ],
      "execution_count": 34,
      "outputs": []
    },
    {
      "cell_type": "code",
      "metadata": {
        "colab": {
          "base_uri": "https://localhost:8080/",
          "height": 298
        },
        "id": "0Lbzpx10Wex4",
        "outputId": "75aa7224-60f5-4de4-e1bf-67eada4088d9"
      },
      "source": [
        "rect.area()"
      ],
      "execution_count": 35,
      "outputs": [
        {
          "output_type": "error",
          "ename": "AttributeError",
          "evalue": "ignored",
          "traceback": [
            "\u001b[0;31m---------------------------------------------------------------------------\u001b[0m",
            "\u001b[0;31mAttributeError\u001b[0m                            Traceback (most recent call last)",
            "\u001b[0;32m<ipython-input-35-b95115eb2d46>\u001b[0m in \u001b[0;36m<module>\u001b[0;34m()\u001b[0m\n\u001b[0;32m----> 1\u001b[0;31m \u001b[0mrect\u001b[0m\u001b[0;34m.\u001b[0m\u001b[0marea\u001b[0m\u001b[0;34m(\u001b[0m\u001b[0;34m)\u001b[0m\u001b[0;34m\u001b[0m\u001b[0;34m\u001b[0m\u001b[0m\n\u001b[0m",
            "\u001b[0;32m<ipython-input-32-a4f25019500b>\u001b[0m in \u001b[0;36marea\u001b[0;34m(self)\u001b[0m\n\u001b[1;32m      7\u001b[0m \u001b[0;32mclass\u001b[0m \u001b[0mRectangle\u001b[0m\u001b[0;34m(\u001b[0m\u001b[0mPolygon\u001b[0m\u001b[0;34m)\u001b[0m\u001b[0;34m:\u001b[0m\u001b[0;34m\u001b[0m\u001b[0;34m\u001b[0m\u001b[0m\n\u001b[1;32m      8\u001b[0m   \u001b[0;32mdef\u001b[0m \u001b[0marea\u001b[0m\u001b[0;34m(\u001b[0m\u001b[0mself\u001b[0m\u001b[0;34m)\u001b[0m\u001b[0;34m:\u001b[0m\u001b[0;34m\u001b[0m\u001b[0;34m\u001b[0m\u001b[0m\n\u001b[0;32m----> 9\u001b[0;31m     \u001b[0;32mreturn\u001b[0m \u001b[0mself\u001b[0m\u001b[0;34m.\u001b[0m\u001b[0m__width\u001b[0m \u001b[0;34m*\u001b[0m \u001b[0mself\u001b[0m\u001b[0;34m.\u001b[0m\u001b[0m__height\u001b[0m\u001b[0;34m\u001b[0m\u001b[0;34m\u001b[0m\u001b[0m\n\u001b[0m\u001b[1;32m     10\u001b[0m \u001b[0;34m\u001b[0m\u001b[0m\n\u001b[1;32m     11\u001b[0m \u001b[0;32mclass\u001b[0m \u001b[0mTriangle\u001b[0m\u001b[0;34m(\u001b[0m\u001b[0mPolygon\u001b[0m\u001b[0;34m)\u001b[0m\u001b[0;34m:\u001b[0m\u001b[0;34m\u001b[0m\u001b[0;34m\u001b[0m\u001b[0m\n",
            "\u001b[0;31mAttributeError\u001b[0m: 'Rectangle' object has no attribute '_Rectangle__width'"
          ]
        }
      ]
    },
    {
      "cell_type": "code",
      "metadata": {
        "id": "iZU3hCwcWg1f"
      },
      "source": [
        "#As you can see we cannot access the private attributes of superclass in subclass.\n",
        "#For accessing private attributes of superclass, we have to use setter and getter in superclass and returning getter in subclass."
      ],
      "execution_count": 36,
      "outputs": []
    },
    {
      "cell_type": "code",
      "metadata": {
        "id": "RH96Aj99XHFu"
      },
      "source": [
        "class Polygon:\n",
        "\n",
        "  def set_values(self, width, height):\n",
        "    self.__width= width\n",
        "    self.__height= height\n",
        "\n",
        "  def get_width(self):\n",
        "    return self.__width\n",
        "  \n",
        "  def get_height(self):\n",
        "    return self.__height\n",
        "  \n",
        "class Rectangle(Polygon):\n",
        "  def area(self):\n",
        "    return self.get_width() * self.get_height()\n",
        "\n",
        "class Triangle(Polygon):\n",
        "  def area(self):\n",
        "    return self.get_width() * self.get_height() / 2"
      ],
      "execution_count": 37,
      "outputs": []
    },
    {
      "cell_type": "code",
      "metadata": {
        "id": "tcKrZ4GCXVjq"
      },
      "source": [
        "rect= Rectangle()"
      ],
      "execution_count": 38,
      "outputs": []
    },
    {
      "cell_type": "code",
      "metadata": {
        "id": "ku2CXus5XaNC"
      },
      "source": [
        "rect.set_values(10,12)"
      ],
      "execution_count": 39,
      "outputs": []
    },
    {
      "cell_type": "code",
      "metadata": {
        "colab": {
          "base_uri": "https://localhost:8080/"
        },
        "id": "I9gFFxmTXg3u",
        "outputId": "2152f9d4-d2f5-4194-d857-c30394507f8f"
      },
      "source": [
        "rect.area()"
      ],
      "execution_count": 40,
      "outputs": [
        {
          "output_type": "execute_result",
          "data": {
            "text/plain": [
              "120"
            ]
          },
          "metadata": {},
          "execution_count": 40
        }
      ]
    },
    {
      "cell_type": "code",
      "metadata": {
        "id": "0QdMhpaKX1ZG"
      },
      "source": [
        "tri= Triangle()"
      ],
      "execution_count": 41,
      "outputs": []
    },
    {
      "cell_type": "code",
      "metadata": {
        "id": "8alleMmxX8hs"
      },
      "source": [
        "tri.set_values(12,15)"
      ],
      "execution_count": 42,
      "outputs": []
    },
    {
      "cell_type": "code",
      "metadata": {
        "colab": {
          "base_uri": "https://localhost:8080/"
        },
        "id": "iK9NvCyJYDg7",
        "outputId": "7b04d697-3639-4ada-feda-e86d22db08c2"
      },
      "source": [
        "tri.area()"
      ],
      "execution_count": 43,
      "outputs": [
        {
          "output_type": "execute_result",
          "data": {
            "text/plain": [
              "90.0"
            ]
          },
          "metadata": {},
          "execution_count": 43
        }
      ]
    },
    {
      "cell_type": "code",
      "metadata": {
        "id": "_-IojXN8Vpt8"
      },
      "source": [
        "#We can also do privatisation of attributes by Abstraction method. \n",
        "#Abstraction: It is used to hide the complexity and only showing the essential features of the object.\n",
        "#Abstract classes cannot be instantiated, and required subclasses to provide implementations for the abstract method. \n",
        "from abc import ABC, abstractmethod"
      ],
      "execution_count": 44,
      "outputs": []
    },
    {
      "cell_type": "code",
      "metadata": {
        "id": "818Jk-vaVeNJ"
      },
      "source": [
        "class Polygon(ABC):\n",
        "\n",
        "  @abstractmethod\n",
        "  def area(self):\n",
        "    pass\n",
        "  \n",
        "  @abstractmethod\n",
        "  def perimeter(self):\n",
        "    pass\n",
        "\n",
        "class Rectangle(Polygon):\n",
        "\n",
        "  def __init__(self, width, height):\n",
        "    self.width= width\n",
        "    self.height= height\n",
        "\n",
        "  def area(self):\n",
        "    return self.width * self.height\n",
        "\n",
        "  def perimeter(self):\n",
        "    return (2*self.width)+(2*self.height)\n"
      ],
      "execution_count": 45,
      "outputs": []
    },
    {
      "cell_type": "code",
      "metadata": {
        "id": "y2x_hUU-W1PS"
      },
      "source": [
        "recta= Rectangle(10,12)"
      ],
      "execution_count": 46,
      "outputs": []
    },
    {
      "cell_type": "code",
      "metadata": {
        "colab": {
          "base_uri": "https://localhost:8080/"
        },
        "id": "3natWC7CW6P1",
        "outputId": "8e699783-081a-4507-d9c1-2bbb988a934f"
      },
      "source": [
        "recta.area()"
      ],
      "execution_count": 47,
      "outputs": [
        {
          "output_type": "execute_result",
          "data": {
            "text/plain": [
              "120"
            ]
          },
          "metadata": {},
          "execution_count": 47
        }
      ]
    },
    {
      "cell_type": "code",
      "metadata": {
        "colab": {
          "base_uri": "https://localhost:8080/"
        },
        "id": "J90hlVtMX4Ow",
        "outputId": "952b5955-2d1e-4067-b88c-e2a22921060a"
      },
      "source": [
        "recta.perimeter()"
      ],
      "execution_count": 48,
      "outputs": [
        {
          "output_type": "execute_result",
          "data": {
            "text/plain": [
              "44"
            ]
          },
          "metadata": {},
          "execution_count": 48
        }
      ]
    },
    {
      "cell_type": "code",
      "metadata": {
        "id": "IVDbU0yCoZX3"
      },
      "source": [
        "#Multiple Inheritance:\n",
        "class Father:\n",
        "  def assign_father_name(self, father):\n",
        "    self.father= father\n",
        "  \n",
        "  def show_father_name(self):\n",
        "     return self.father\n",
        "\n",
        "class Mother:\n",
        "  def assign_mother_name(self, mother):\n",
        "    self.mother= mother\n",
        "\n",
        "  def show_mother_name(self):\n",
        "     return self.mother\n",
        "\n",
        "class Child(Father, Mother):\n",
        "  def assign_son_name(self, son):\n",
        "    self.son= son\n",
        "  \n",
        "  def show_son_name(self):\n",
        "     return self.son"
      ],
      "execution_count": 49,
      "outputs": []
    },
    {
      "cell_type": "code",
      "metadata": {
        "id": "5q0vN5Rmpthk"
      },
      "source": [
        "ch= Child()"
      ],
      "execution_count": 50,
      "outputs": []
    },
    {
      "cell_type": "code",
      "metadata": {
        "id": "9pZY6DHLyoSj"
      },
      "source": [
        "ch.assign_father_name('f')"
      ],
      "execution_count": 51,
      "outputs": []
    },
    {
      "cell_type": "code",
      "metadata": {
        "colab": {
          "base_uri": "https://localhost:8080/",
          "height": 35
        },
        "id": "FV9vETgG0A7G",
        "outputId": "1376e60e-4346-4f63-d792-41cd13b46872"
      },
      "source": [
        "ch.show_father_name()"
      ],
      "execution_count": 52,
      "outputs": [
        {
          "output_type": "execute_result",
          "data": {
            "application/vnd.google.colaboratory.intrinsic+json": {
              "type": "string"
            },
            "text/plain": [
              "'f'"
            ]
          },
          "metadata": {},
          "execution_count": 52
        }
      ]
    },
    {
      "cell_type": "code",
      "metadata": {
        "id": "8cupHO1wzUoR"
      },
      "source": [
        "ch.assign_mother_name('m')"
      ],
      "execution_count": 53,
      "outputs": []
    },
    {
      "cell_type": "code",
      "metadata": {
        "colab": {
          "base_uri": "https://localhost:8080/",
          "height": 35
        },
        "id": "PLyjB1_40FK8",
        "outputId": "4ccc3f47-b2a4-4fe8-acb9-54d87759f3ee"
      },
      "source": [
        "ch.show_mother_name()"
      ],
      "execution_count": 54,
      "outputs": [
        {
          "output_type": "execute_result",
          "data": {
            "application/vnd.google.colaboratory.intrinsic+json": {
              "type": "string"
            },
            "text/plain": [
              "'m'"
            ]
          },
          "metadata": {},
          "execution_count": 54
        }
      ]
    },
    {
      "cell_type": "code",
      "metadata": {
        "id": "HNMUnrdH0JiR"
      },
      "source": [
        "ch.assign_son_name('s')"
      ],
      "execution_count": 55,
      "outputs": []
    },
    {
      "cell_type": "code",
      "metadata": {
        "colab": {
          "base_uri": "https://localhost:8080/",
          "height": 35
        },
        "id": "1jwD7eR60WZE",
        "outputId": "e79d5a04-9191-45b7-ca28-af418616dfd9"
      },
      "source": [
        "ch.show_son_name()"
      ],
      "execution_count": 56,
      "outputs": [
        {
          "output_type": "execute_result",
          "data": {
            "application/vnd.google.colaboratory.intrinsic+json": {
              "type": "string"
            },
            "text/plain": [
              "'s'"
            ]
          },
          "metadata": {},
          "execution_count": 56
        }
      ]
    },
    {
      "cell_type": "code",
      "metadata": {
        "id": "zQ20BSOaE4s6"
      },
      "source": [
        "#Composition: Delegating some responsibility from one class to another class. "
      ],
      "execution_count": 57,
      "outputs": []
    },
    {
      "cell_type": "code",
      "metadata": {
        "id": "HKocsUucLEF_"
      },
      "source": [
        "class Salary:\n",
        "  def __init__(self, pay, bonus):\n",
        "    self.pay= pay\n",
        "    self.bonus= bonus\n",
        "  \n",
        "  def annual_salary(self):\n",
        "    return (self.pay*12) + (self.bonus)\n",
        "\n",
        "class Employee:\n",
        "  def __init__(self, name, age, pay, bonus):\n",
        "    self.name= name\n",
        "    self.age= age\n",
        "    self.obj_salary= Salary(pay, bonus)\n",
        "\n",
        "  def total_salary(self):\n",
        "    return self.obj_salary.annual_salary()"
      ],
      "execution_count": 58,
      "outputs": []
    },
    {
      "cell_type": "code",
      "metadata": {
        "id": "_ofWi2AiM8Ta"
      },
      "source": [
        "e1= Employee('ft', 26, 12000, 8000)"
      ],
      "execution_count": 59,
      "outputs": []
    },
    {
      "cell_type": "code",
      "metadata": {
        "colab": {
          "base_uri": "https://localhost:8080/"
        },
        "id": "mG2aERTkNEiE",
        "outputId": "c109272d-eac2-433d-d21e-e6601826758e"
      },
      "source": [
        "e1.total_salary() "
      ],
      "execution_count": 60,
      "outputs": [
        {
          "output_type": "execute_result",
          "data": {
            "text/plain": [
              "152000"
            ]
          },
          "metadata": {},
          "execution_count": 60
        }
      ]
    },
    {
      "cell_type": "code",
      "metadata": {
        "colab": {
          "base_uri": "https://localhost:8080/"
        },
        "id": "AhbkoHq20NAy",
        "outputId": "0b899473-fc66-4bac-99a1-cb1e7129e6e0"
      },
      "source": [
        "e1.name,e1.age"
      ],
      "execution_count": 65,
      "outputs": [
        {
          "output_type": "execute_result",
          "data": {
            "text/plain": [
              "('ft', 26)"
            ]
          },
          "metadata": {},
          "execution_count": 65
        }
      ]
    }
  ]
}